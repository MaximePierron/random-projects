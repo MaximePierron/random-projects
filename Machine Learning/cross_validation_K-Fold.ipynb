{
 "cells": [
  {
   "cell_type": "code",
   "execution_count": 35,
   "id": "116575af-3566-48b4-8b9e-ba1f5212007b",
   "metadata": {},
   "outputs": [],
   "source": [
    "import pandas as pd\n",
    "import numpy as np\n",
    "from sklearn.neighbors import KNeighborsRegressor\n",
    "from sklearn.metrics import mean_squared_error\n",
    "from sklearn.model_selection import KFold\n",
    "from sklearn.model_selection import cross_val_score\n",
    "import matplotlib.pyplot as plt"
   ]
  },
  {
   "cell_type": "code",
   "execution_count": 37,
   "id": "500514a6-2321-47b1-892f-8d7851351592",
   "metadata": {},
   "outputs": [],
   "source": [
    "pd.options.mode.chained_assignment = None\n",
    "airbnb = pd.read_csv('paris_airbnb.csv')\n",
    "cleaned_price = airbnb['price'].str.replace('$','').replace(',','')\n",
    "airbnb['price'] = pd.to_numeric(cleaned_price, errors='coerce')\n",
    "numerical_cols = airbnb.select_dtypes(include=['float', 'int']).columns.to_list()\n",
    "numerical_cols = numerical_cols[4:]\n",
    "num_df = airbnb[numerical_cols].copy()\n",
    "num_df = num_df.dropna(how='any',axis=0)\n",
    "normalized_df=(num_df-num_df.mean())/num_df.std()\n",
    "normalized_df['price'] = num_df['price']\n",
    "features = normalized_df.columns.tolist()\n",
    "features.remove('price')"
   ]
  },
  {
   "cell_type": "code",
   "execution_count": 39,
   "id": "6256a660-e91d-446f-b7cc-952b79067378",
   "metadata": {},
   "outputs": [],
   "source": [
    "knn = KNeighborsRegressor(n_neighbors=10, algorithm='brute')"
   ]
  },
  {
   "cell_type": "code",
   "execution_count": 41,
   "id": "682244ad-4405-4a9b-aa1d-7875780d082f",
   "metadata": {},
   "outputs": [],
   "source": [
    "kf = KFold(n_splits=5, shuffle=True, random_state=1)"
   ]
  },
  {
   "cell_type": "code",
   "execution_count": 43,
   "id": "18cd20d5-feff-4bf9-87f1-01da2f1e5c7c",
   "metadata": {},
   "outputs": [],
   "source": [
    "mses = cross_val_score(knn, normalized_df[features[:1]], normalized_df['price'], scoring='neg_mean_squared_error', cv=kf)"
   ]
  },
  {
   "cell_type": "code",
   "execution_count": 45,
   "id": "0e29d897-6e51-46bd-bd9c-7a46473f9e84",
   "metadata": {},
   "outputs": [],
   "source": [
    "rmses = np.sqrt(np.absolute(mses))\n",
    "avg_rmse = np.mean(rmses)"
   ]
  },
  {
   "cell_type": "code",
   "execution_count": 47,
   "id": "7ebf1b3d-72f8-4bea-a148-0b958413c83a",
   "metadata": {},
   "outputs": [
    {
     "name": "stdout",
     "output_type": "stream",
     "text": [
      "[71.0999203  77.18000019 75.91281464 86.40129539 65.95834578]\n",
      "75.31047525932311\n"
     ]
    }
   ],
   "source": [
    "print(rmses)\n",
    "print(avg_rmse)"
   ]
  },
  {
   "cell_type": "code",
   "execution_count": null,
   "id": "71746236-faee-4778-9f19-2904d5eec71c",
   "metadata": {},
   "outputs": [],
   "source": []
  }
 ],
 "metadata": {
  "kernelspec": {
   "display_name": "Python 3 (ipykernel)",
   "language": "python",
   "name": "python3"
  },
  "language_info": {
   "codemirror_mode": {
    "name": "ipython",
    "version": 3
   },
   "file_extension": ".py",
   "mimetype": "text/x-python",
   "name": "python",
   "nbconvert_exporter": "python",
   "pygments_lexer": "ipython3",
   "version": "3.12.4"
  }
 },
 "nbformat": 4,
 "nbformat_minor": 5
}
