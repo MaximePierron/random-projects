{
 "cells": [
  {
   "cell_type": "code",
   "execution_count": 79,
   "id": "35b4faf3-73f8-4d92-b257-ca195fa958d9",
   "metadata": {},
   "outputs": [],
   "source": [
    "import pandas as pd\n",
    "import numpy as np\n",
    "from sklearn.neighbors import KNeighborsRegressor\n",
    "from sklearn.metrics import mean_squared_error\n",
    "import matplotlib.pyplot as plt"
   ]
  },
  {
   "cell_type": "code",
   "execution_count": 81,
   "id": "2a205a3c-e487-4519-b831-7ddf3ec351d0",
   "metadata": {},
   "outputs": [],
   "source": [
    "pd.options.mode.chained_assignment = None\n",
    "np.random.seed(1)"
   ]
  },
  {
   "cell_type": "code",
   "execution_count": 83,
   "id": "d60a6cfe-68dc-4228-9009-c8674f28ed2b",
   "metadata": {},
   "outputs": [],
   "source": [
    "airbnb = pd.read_csv('paris_airbnb.csv')"
   ]
  },
  {
   "cell_type": "code",
   "execution_count": 85,
   "id": "8c5fb51a-bd5d-45cd-a337-d0aff92ec3b9",
   "metadata": {},
   "outputs": [],
   "source": [
    "random_indexes = np.random.permutation(len(airbnb))\n",
    "airbnb = airbnb.iloc[random_indexes]\n",
    "airbnb = airbnb.reindex()"
   ]
  },
  {
   "cell_type": "code",
   "execution_count": 87,
   "id": "44b5236f-fa6a-4b22-bd14-c2650c1d3d8a",
   "metadata": {},
   "outputs": [],
   "source": [
    "cleaned_price = airbnb['price'].str.replace('$','').replace(',','')\n",
    "airbnb['price'] = pd.to_numeric(cleaned_price, errors='coerce')"
   ]
  },
  {
   "cell_type": "code",
   "execution_count": 89,
   "id": "9b5c6d29-e918-4213-9b42-c7452411ae22",
   "metadata": {},
   "outputs": [],
   "source": [
    "numerical_cols = airbnb.select_dtypes(include=['float', 'int']).columns.to_list()\n",
    "numerical_cols = numerical_cols[4:]\n",
    "num_df = airbnb[numerical_cols].copy()\n",
    "num_df = num_df.dropna(how='any',axis=0)\n",
    "normalized_df=(num_df-num_df.mean())/num_df.std()\n",
    "normalized_df['price'] = num_df['price']"
   ]
  },
  {
   "cell_type": "code",
   "execution_count": 91,
   "id": "5e37ca4d-fd51-46c2-875a-dd1dbbe16333",
   "metadata": {},
   "outputs": [],
   "source": [
    "split_one = normalized_df.iloc[:int(len(normalized_df)/2)]\n",
    "split_two = normalized_df.iloc[int(len(normalized_df)/2):]"
   ]
  },
  {
   "cell_type": "code",
   "execution_count": 93,
   "id": "bef1b2be-0dd1-42bd-9c61-b560462f469d",
   "metadata": {},
   "outputs": [],
   "source": [
    "knn = KNeighborsRegressor(n_neighbors=5, algorithm='brute')"
   ]
  },
  {
   "cell_type": "code",
   "execution_count": 95,
   "id": "3cfc7547-d083-4638-9f08-4576f644398b",
   "metadata": {},
   "outputs": [],
   "source": [
    "features = split_one.columns.tolist()\n",
    "features.remove('price')"
   ]
  },
  {
   "cell_type": "code",
   "execution_count": 97,
   "id": "61a82106-342a-4e78-9b41-8a66e7925202",
   "metadata": {},
   "outputs": [],
   "source": [
    "train_one = split_one.copy()\n",
    "test_one = split_two.copy()\n",
    "train_two = split_two.copy()\n",
    "test_two = split_one.copy()"
   ]
  },
  {
   "cell_type": "code",
   "execution_count": 99,
   "id": "563a5d2e-84bc-4b2e-8061-951b0026c19d",
   "metadata": {},
   "outputs": [],
   "source": [
    "knn.fit(train_one[features[:1]], train_one['price'])\n",
    "predictions_one = knn.predict(test_one[features[:1]])\n",
    "mse_one = mean_squared_error(test_one['price'], predictions_one)\n",
    "rmse_one = np.sqrt(mse_one)"
   ]
  },
  {
   "cell_type": "code",
   "execution_count": 101,
   "id": "94ae4828-c2b5-41de-9bab-fcff3b0708ee",
   "metadata": {},
   "outputs": [],
   "source": [
    "knn.fit(train_two[features[:1]], train_two['price'])\n",
    "predictions_two = knn.predict(test_two[features[:1]])\n",
    "mse_two = mean_squared_error(test_two['price'], predictions_two)\n",
    "rmse_two = np.sqrt(mse_two)"
   ]
  },
  {
   "cell_type": "code",
   "execution_count": 105,
   "id": "fdc93ed9-5331-41bd-ab2b-7938f4a11cbe",
   "metadata": {},
   "outputs": [],
   "source": [
    "mrmse = np.mean([rmse_one, rmse_two])"
   ]
  },
  {
   "cell_type": "code",
   "execution_count": 109,
   "id": "fb0e3282-9b9b-4c04-b022-43edc3607a24",
   "metadata": {},
   "outputs": [
    {
     "name": "stdout",
     "output_type": "stream",
     "text": [
      "80.98433130878459 73.13246882512846 77.05840006695652\n"
     ]
    }
   ],
   "source": [
    "print(rmse_one, rmse_two, mrmse)"
   ]
  },
  {
   "cell_type": "code",
   "execution_count": null,
   "id": "68db0553-2771-457f-970d-c75f3e247766",
   "metadata": {},
   "outputs": [],
   "source": []
  }
 ],
 "metadata": {
  "kernelspec": {
   "display_name": "Python 3 (ipykernel)",
   "language": "python",
   "name": "python3"
  },
  "language_info": {
   "codemirror_mode": {
    "name": "ipython",
    "version": 3
   },
   "file_extension": ".py",
   "mimetype": "text/x-python",
   "name": "python",
   "nbconvert_exporter": "python",
   "pygments_lexer": "ipython3",
   "version": "3.12.4"
  }
 },
 "nbformat": 4,
 "nbformat_minor": 5
}
