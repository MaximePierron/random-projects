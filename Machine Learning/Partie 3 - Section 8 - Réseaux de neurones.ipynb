{
 "cells": [
  {
   "cell_type": "markdown",
   "metadata": {},
   "source": [
    "# Réseaux de neurones"
   ]
  },
  {
   "cell_type": "markdown",
   "metadata": {},
   "source": [
    "## Introduction aux données"
   ]
  },
  {
   "cell_type": "markdown",
   "metadata": {},
   "source": [
    "- Visualiser les données en utilisant la méthode hist() sur notre DataFrame iris et afficher les graphiques."
   ]
  },
  {
   "cell_type": "code",
   "execution_count": 1,
   "metadata": {},
   "outputs": [
    {
     "name": "stdout",
     "output_type": "stream",
     "text": [
      "     sepal_length  sepal_width  petal_length  petal_width     species\n",
      "14            5.8          4.0           1.2          0.2      setosa\n",
      "98            5.1          2.5           3.0          1.1  versicolor\n",
      "75            6.6          3.0           4.4          1.4  versicolor\n",
      "16            5.4          3.9           1.3          0.4      setosa\n",
      "131           7.9          3.8           6.4          2.0   virginica\n"
     ]
    }
   ],
   "source": [
    "import pandas as pd\n",
    "import matplotlib.pyplot as plt\n",
    "import numpy as np\n",
    "np.random.seed(1)\n",
    "\n",
    "# Lire le dataset\n",
    "iris = pd.read_csv('iris.csv')\n",
    "\n",
    "# Mélanger les lignes\n",
    "shuffled_rows = np.random.permutation(iris.index)\n",
    "iris = iris.loc[shuffled_rows,:]\n",
    "\n",
    "print(iris.head())"
   ]
  },
  {
   "cell_type": "code",
   "execution_count": 2,
   "metadata": {},
   "outputs": [
    {
     "name": "stdout",
     "output_type": "stream",
     "text": [
      "['setosa' 'versicolor' 'virginica']\n"
     ]
    }
   ],
   "source": [
    "# il y a 3 espèces\n",
    "print(iris.species.unique())"
   ]
  },
  {
   "cell_type": "code",
   "execution_count": 3,
   "metadata": {},
   "outputs": [
    {
     "data": {
      "image/png": "[encoded data removed]",
      "text/plain": [
       "<Figure size 640x480 with 4 Axes>"
      ]
     },
     "metadata": {},
     "output_type": "display_data"
    }
   ],
   "source": [
    "iris.hist()\n",
    "plt.show()"
   ]
  },
  {
   "cell_type": "markdown",
   "metadata": {},
   "source": [
    "## Neurones"
   ]
  },
  {
   "cell_type": "markdown",
   "metadata": {},
   "source": [
    "- Ecrire une fonction nommée sigmoid_activation avec en paramètres x un vecteur caractéristiques et theta un vecteur paramètre de même longueur pour implémenter la fonction d'activation sigmoid.\n",
    " + Assigner la valeur de sigmoid_activation(x0, theta_init) à a1. a1 devrait être un vecteur.\n"
   ]
  },
  {
   "cell_type": "code",
   "execution_count": 7,
   "metadata": {},
   "outputs": [],
   "source": [
    "# Variables pour tester la fonction sigmoid_activation\n",
    "iris[\"ones\"] = np.ones(iris.shape[0]) # on crée une colonne de 1 pour le biais\n",
    "# Biais et les 4 caractéristiques\n",
    "X = iris[['ones', 'sepal_length', 'sepal_width', 'petal_length', 'petal_width']].values\n",
    "# 1 pour les iris de type versicolor et 0 pour toutes les autres\n",
    "y = (iris.species == 'versicolor').values.astype(int) \n",
    "\n",
    "# la première observation\n",
    "x0 = X[0]\n",
    "\n",
    "# Initialiser les thetas aléatoirement\n",
    "np.random.seed(1)\n",
    "theta_init = np.random.normal(0,0.01,size=(5,1))"
   ]
  },
  {
   "cell_type": "code",
   "execution_count": 11,
   "metadata": {},
   "outputs": [
    {
     "name": "stdout",
     "output_type": "stream",
     "text": [
      "[0.48712532]\n"
     ]
    }
   ],
   "source": [
    "def sigmoid_activation(x, theta):\n",
    "    x = np.asarray(x) # convertit une entrée en tableau array\n",
    "    theta = np.asarray(theta)\n",
    "    return 1 / (1 + np.exp(-np.dot(theta.T,x)))\n",
    "\n",
    "a1 = sigmoid_activation(x0, theta_init)\n",
    "print(a1)"
   ]
  },
  {
   "cell_type": "markdown",
   "metadata": {},
   "source": [
    "## Fonction Cost"
   ]
  },
  {
   "cell_type": "markdown",
   "metadata": {},
   "source": [
    "- Ecrire une fonction nommée singlecost(), qui peut calculer le coût à partir d'une seule observation.\n",
    " + Cette fonction doit utiliser en paramètre les caractéristiques X, les cibles y, et les paramètres theta pour calculer la fonction de coût.\n",
    " + Assigner le coût des variables x0, y0, et theta_init à la variable first_cost."
   ]
  },
  {
   "cell_type": "code",
   "execution_count": 15,
   "metadata": {},
   "outputs": [],
   "source": [
    "X = iris[['ones', 'sepal_length', 'sepal_width', 'petal_length', 'petal_width']].values\n",
    "y = (iris.species == 'versicolor').values.astype(int)\n",
    "\n",
    "# Premières observations des caractéristiques et cible\n",
    "x0 = X[0]\n",
    "y0 = y[0]\n",
    "\n",
    "# Initialiser les paramètres, nous avons 4 caractéristiques et un biais et une seule couche\n",
    "np.random.seed(1)\n",
    "theta_init = np.random.normal(0,0.01,size=(5,1))"
   ]
  },
  {
   "cell_type": "code",
   "execution_count": 17,
   "metadata": {},
   "outputs": [
    {
     "name": "stdout",
     "output_type": "stream",
     "text": [
      "0.6677237568307639\n"
     ]
    }
   ],
   "source": [
    "def singlecost(X,y,theta):\n",
    "    # calculer l'activation\n",
    "    h = sigmoid_activation(X.T, theta)\n",
    "    \n",
    "    # prendre la moyenne négative de la cible * log(activation)+(1 - cible)*log(1 - activation)\n",
    "    cost = -np.mean(y*np.log(h) + (1-y)*np.log(1-h))\n",
    "    return cost\n",
    "\n",
    "first_cost = singlecost(x0, y0, theta_init)\n",
    "print(first_cost)"
   ]
  },
  {
   "cell_type": "markdown",
   "metadata": {},
   "source": [
    "## Calculer les gradients"
   ]
  },
  {
   "cell_type": "markdown",
   "metadata": {},
   "source": [
    "- Calculer les gradients moyens à travers toutes les observations de X et des cibles correspondantes y avec les paramètres initiaux theta_init.\n",
    "- Assigner les gradients moyens à la variable grads.\n"
   ]
  },
  {
   "cell_type": "code",
   "execution_count": 21,
   "metadata": {},
   "outputs": [
    {
     "name": "stdout",
     "output_type": "stream",
     "text": [
      "150\n"
     ]
    }
   ],
   "source": [
    "# Initialiser les paramètres\n",
    "X = iris[['ones', 'sepal_length', 'sepal_width', 'petal_length', 'petal_width']].values\n",
    "y = (iris.species == 'versicolor').values.astype(int)\n",
    "np.random.seed(1)\n",
    "theta_init = np.random.normal(0,0.01,size=(5,1))\n",
    "\n",
    "# Stocker les mises à jours dans ce tableau array\n",
    "grads = np.zeros(theta_init.shape)\n",
    "\n",
    "# Nombre d'observations\n",
    "n = X.shape[0]\n",
    "print(n)"
   ]
  },
  {
   "cell_type": "code",
   "execution_count": 23,
   "metadata": {},
   "outputs": [
    {
     "name": "stdout",
     "output_type": "stream",
     "text": [
      "[[-0.03753118]\n",
      " [-0.21073531]\n",
      " [-0.1387791 ]\n",
      " [-0.09740595]\n",
      " [-0.03372266]]\n"
     ]
    }
   ],
   "source": [
    "for j, obs in enumerate(X):\n",
    "    # calculer l'activation\n",
    "    h = sigmoid_activation(obs, theta_init)\n",
    "    \n",
    "    # obtenir le delta\n",
    "    delta = (y[j]-h)*h*(1-h)*obs\n",
    "    \n",
    "    # on somme chacun de ces termes et on divise par le nombre d'observations\n",
    "    grads += delta[:,np.newaxis]/X.shape[0]\n",
    "print(grads)"
   ]
  },
  {
   "cell_type": "markdown",
   "metadata": {},
   "source": [
    "## Réseau de neurones à 2 couches"
   ]
  },
  {
   "cell_type": "code",
   "execution_count": 26,
   "metadata": {},
   "outputs": [],
   "source": [
    "X = iris[['ones', 'sepal_length', 'sepal_width', 'petal_length', 'petal_width']].values\n",
    "y = (iris.species == 'versicolor').values.astype(int)\n",
    "np.random.seed(1)\n",
    "theta_init = np.random.normal(0,0.01,size=(5,1))"
   ]
  },
  {
   "cell_type": "code",
   "execution_count": 28,
   "metadata": {},
   "outputs": [],
   "source": [
    "# on fixe le taux d'apprentissage alpha\n",
    "learning_rate = 0.1\n",
    "# nombre max d'itérations pour le gradient descent\n",
    "maxepochs = 10000\n",
    "# seuil de convergence de coûts, par exemple (prevcost - cost) > convergence_thres\n",
    "convergence_thres = 0.00001\n",
    "\n",
    "def learn(X,y,theta,learning_rate,maxepochs,convergence_thres):\n",
    "    costs = []\n",
    "    cost = singlecost(X,y,theta) # calcul du coût initial\n",
    "    costprev = cost + convergence_thres + 0.01 # fixe un coput initial à ne pas dépasser\n",
    "    counter = 0 # ajoute un compteur\n",
    "    # boucle jusqu'à la convergence\n",
    "    for countrer in range(maxepochs):\n",
    "        grads = np.zeros(theta.shape)\n",
    "        for j,obs in enumerate(X):\n",
    "            h = sigmoid_activation(obs,theta) # calcul de l'activation\n",
    "            delta = (y[j]-h)*h*(1-h)*obs # calcul du delta\n",
    "            grads += delta[:,np.newaxis]/X.shape[0] # moyenne des gradients\n",
    "            \n",
    "        # mise à jour des paramètres à partir des gradients\n",
    "        theta += grads*learning_rate\n",
    "        counter += 1 # compteur\n",
    "        costprev = cost # stocke le précédent coput que l'on va comparer au nouveau\n",
    "        cost = singlecost(X,y,theta) # calcul du nouveau coût\n",
    "        costs.append(cost) # on ajout le coût au tableau costs\n",
    "        if np.abs(costprev-cost)<convergence_thres: # on vérifie la convergence\n",
    "            break # lorsque àa converge (par rapport au seuil défini) on arrête\n",
    "            \n",
    "    plt.plot(costs)\n",
    "    plt.title(\"Convergence de la fonction Cost\")\n",
    "    plt.ylabel('J')\n",
    "    plt.xlabel('Itération')\n",
    "    plt.show()\n",
    "    return theta"
   ]
  },
  {
   "cell_type": "code",
   "execution_count": 30,
   "metadata": {},
   "outputs": [
    {
     "data": {
      "image/png": "[encoded data removed]",
      "text/plain": [
       "<Figure size 640x480 with 1 Axes>"
      ]
     },
     "metadata": {},
     "output_type": "display_data"
    }
   ],
   "source": [
    "theta = learn(X, y, theta_init, learning_rate, maxepochs, convergence_thres)"
   ]
  },
  {
   "cell_type": "markdown",
   "metadata": {},
   "source": [
    "## Réseaux de neurones"
   ]
  },
  {
   "cell_type": "markdown",
   "metadata": {},
   "source": [
    "- Ecrire une fonction nommée feedforward() qui prendra en paramètre X et 2 ensembles de paramètres theta0 et theta1 pour calculer la sortie hΘ(X).\n",
    " + Assigner la sortie à la variable h en utilisant les caractéristiques X et les paramètres theta0_init et theta1_init.\n"
   ]
  },
  {
   "cell_type": "code",
   "execution_count": 13,
   "metadata": {},
   "outputs": [],
   "source": [
    "X = iris[['ones', 'sepal_length', 'sepal_width', 'petal_length', 'petal_width']].values\n",
    "np.random.seed(1)\n",
    "theta0_init = np.random.normal(0,0.01,size=(5,4))\n",
    "theta1_init = np.random.normal(0,0.01,size=(5,1))"
   ]
  },
  {
   "cell_type": "code",
   "execution_count": 16,
   "metadata": {},
   "outputs": [],
   "source": [
    "def feedforward(X,theta0,theta1):\n",
    "    # on nourrit le réseau de neurones à partir de la première couche\n",
    "    a1 = sigmoid_activation(X.T,theta0).T\n",
    "    # on ajoute une colonne de 1 pour le biais\n",
    "    a1 = np.column_stack([np.ones(a1.shape[0]),a1])\n",
    "    # les unitéq d'activation sont ensuite imputées à la couche de sortie\n",
    "    out = sigmoid_activation(a1.T,theta1)\n",
    "    return out\n",
    "\n",
    "h = feedforward(X,theta0_init,theta1_init)"
   ]
  },
  {
   "cell_type": "markdown",
   "metadata": {},
   "source": [
    "## Fonction Cost pour un réseau de neurones multiple"
   ]
  },
  {
   "cell_type": "markdown",
   "metadata": {},
   "source": [
    "- Ecrire une fonction nommée multiplecost() qui doit estimer la fonction de coût.\n",
    " + Utiliser les observations de X, les cibles y et les paramètres initiaux theta0_init et theta1_init en paramètre de la fonction.\n",
    " + Assigner la valeur de coût ou d'erreur à la variable c.\n"
   ]
  },
  {
   "cell_type": "code",
   "execution_count": 18,
   "metadata": {},
   "outputs": [],
   "source": [
    "X = iris[['ones', 'sepal_length', 'sepal_width', 'petal_length', 'petal_width']].values\n",
    "y = (iris.species == 'versicolor').values.astype(int)\n",
    "np.random.seed(1)\n",
    "theta0_init = np.random.normal(0,0.01,size=(5,4))\n",
    "theta1_init = np.random.normal(0,0.01,size=(5,1))"
   ]
  },
  {
   "cell_type": "code",
   "execution_count": 19,
   "metadata": {},
   "outputs": [
    {
     "data": {
      "text/plain": [
       "0.6941417093435182"
      ]
     },
     "execution_count": 19,
     "metadata": {},
     "output_type": "execute_result"
    }
   ],
   "source": [
    "def multiplecost(X,y,theta0,theta1):\n",
    "    # nourrir le réseau de neurones\n",
    "    h = feedforward(X,theta0,theta1)\n",
    "    # calculer l'erreur\n",
    "    inner = y*np.log(h)+(1-y)*np.log(1-h)\n",
    "    # retourne la négation de l'erreur moyenne\n",
    "    return -np.mean(inner)\n",
    "\n",
    "c = multiplecost(X,y,theta0_init, theta1_init)\n",
    "c"
   ]
  },
  {
   "cell_type": "markdown",
   "metadata": {},
   "source": [
    "## Backpropagation"
   ]
  },
  {
   "cell_type": "code",
   "execution_count": 21,
   "metadata": {},
   "outputs": [],
   "source": [
    "# Utiliser une classe pour ce modèle, c'est une bonne pratique et permet de condenser le code\n",
    "class NNet3:\n",
    "    def __init__(self, learning_rate=0.5, maxepochs=1e4, \n",
    "                 convergence_thres=1e-5, hidden_layer=4):\n",
    "        self.learning_rate = learning_rate\n",
    "        self.maxepochs = int(maxepochs)\n",
    "        self.convergence_thres = 1e-5\n",
    "        self.hidden_layer = int(hidden_layer)\n",
    "        \n",
    "    def _multiplecost(self, X, y):\n",
    "        # on nourrit le réseau de neurones\n",
    "        l1, l2 = self._feedforward(X) # on applique la fonction feedforward\n",
    "        # on calcule l'erreur\n",
    "        inner = y * np.log(l2) + (1-y) * np.log(1-l2)\n",
    "        # négation de l'erreur moyenne\n",
    "        return -np.mean(inner)\n",
    "    \n",
    "    def _feedforward(self, X):\n",
    "        # données de la première couche\n",
    "        l1 = sigmoid_activation(X.T, self.theta0).T\n",
    "        # on ajoute une colonne de 1 pour le terme de biais\n",
    "        l1 = np.column_stack([np.ones(l1.shape[0]), l1])\n",
    "        # les unités d'activation sont ensuite imputées à la couche de soprtie\n",
    "        l2 = sigmoid_activation(l1.T, self.theta1)\n",
    "        return l1, l2\n",
    "    \n",
    "    def predict(self, X):\n",
    "        _, y = self._feedforward(X)\n",
    "        return y\n",
    "    \n",
    "    def learn(self, X, y):\n",
    "        nobs, ncols = X.shape\n",
    "        self.theta0 = np.random.normal(0,0.01,size=(ncols,self.hidden_layer))\n",
    "        self.theta1 = np.random.normal(0,0.01,size=(self.hidden_layer+1,1))\n",
    "        \n",
    "        self.costs = []\n",
    "        cost = self._multiplecost(X, y)\n",
    "        self.costs.append(cost)\n",
    "        costprev = cost + self.convergence_thres+1 # fixe un coût initial à ne pas dépasser\n",
    "        counter = 0 # initialise un compteur\n",
    "        \n",
    "        # Boucle jusqu'à la convergence\n",
    "        for counter in range(self.maxepochs):\n",
    "            # on nourrit le réseau\n",
    "            l1, l2 = self._feedforward(X)\n",
    "            \n",
    "            # on démarre la backpropagation\n",
    "            # Calcul des gradients\n",
    "            l2_delta = (y-l2) * l2 * (1-l2)\n",
    "            l1_delta = l2_delta.T.dot(self.theta1.T) * l1 * (1-l1)\n",
    "            \n",
    "            # Update des paramètres par moyenne des gradients et en multipliant \n",
    "            # par le taux d'apprentissage\n",
    "            self.theta1 += l1.T.dot(l2_delta.T) / nobs * self.learning_rate\n",
    "            self.theta0 += X.T.dot(l1_delta)[:,1:] / nobs * self.learning_rate\n",
    "            \n",
    "            # Stockage des coûts et vérification de la convergence\n",
    "            counter += 1 # décompte\n",
    "            costprev = cost # Stockage du coût actuel dans prev cost\n",
    "            cost = self._multiplecost(X, y) # on obtient le nouveau coût\n",
    "            self.costs.append(cost)\n",
    "            if np.abs(costprev-cost) < self.convergence_thres and counter > 500:\n",
    "                break"
   ]
  },
  {
   "cell_type": "code",
   "execution_count": 23,
   "metadata": {},
   "outputs": [
    {
     "data": {
      "image/png": "[encoded data removed]",
      "text/plain": [
       "<Figure size 432x288 with 1 Axes>"
      ]
     },
     "metadata": {
      "needs_background": "light"
     },
     "output_type": "display_data"
    }
   ],
   "source": [
    "# on fixe un taux d'apprentissage\n",
    "learning_rate = 0.5\n",
    "# nombre d'itérations max pour le gradient descent\n",
    "maxepochs = 10000\n",
    "# seuil de convergence de coût, par exemple (prevcost - cost) > convergence_thres\n",
    "convergence_thres = 0.00001\n",
    "# nombre de neurones ou unités d'activation par couche cachée\n",
    "hidden_units = 4\n",
    "\n",
    "# initialisation du modèle\n",
    "model = NNet3(learning_rate=learning_rate, maxepochs=maxepochs, \n",
    "              convergence_thres=convergence_thres, hidden_layer=hidden_units)\n",
    "# entrainement du modèle\n",
    "model.learn(X,y)\n",
    "\n",
    "# tracé l'évolution des coûts ou de l'erreur\n",
    "plt.plot(model.costs)\n",
    "plt.title('Convergence de la fonction Cost')\n",
    "plt.ylabel('J')\n",
    "plt.xlabel('itération')\n",
    "plt.show()"
   ]
  },
  {
   "cell_type": "markdown",
   "metadata": {},
   "source": [
    "## Séparation des données"
   ]
  },
  {
   "cell_type": "markdown",
   "metadata": {},
   "source": [
    "- Choisir les 100 premières lignes de X et y et les assigner respectivement aux variables X_train et y_train.\n",
    "- Les 50 dernières lignes devront être assignées aux variables X_test et y_test."
   ]
  },
  {
   "cell_type": "code",
   "execution_count": 24,
   "metadata": {},
   "outputs": [],
   "source": [
    "X = iris[['ones', 'sepal_length', 'sepal_width', 'petal_length', 'petal_width']].values\n",
    "y = (iris.species == 'versicolor').values.astype(int)"
   ]
  },
  {
   "cell_type": "code",
   "execution_count": 25,
   "metadata": {},
   "outputs": [],
   "source": [
    "X_train = X[:100]\n",
    "y_train = y[:100]\n",
    "\n",
    "X_test = X[-50:]\n",
    "y_test = y[-50:]"
   ]
  },
  {
   "cell_type": "markdown",
   "metadata": {},
   "source": [
    "## Prédiction sur les fleurs d'iris"
   ]
  },
  {
   "cell_type": "code",
   "execution_count": 30,
   "metadata": {},
   "outputs": [],
   "source": [
    "# fixer un taux d'apprentissage\n",
    "learning_rate = 0.5\n",
    "# Nombre maximum d'itérations pour le gradient descent\n",
    "maxepochs = 10000\n",
    "# seuil de convergence des coûts, par exemple (prevcost - cost) > convergence_thres\n",
    "convergence_thres = 0.00001\n",
    "# Nombre de neurones par couche cachée\n",
    "hidden_units = 4\n",
    "\n",
    "# Initialiser le modèle\n",
    "model = NNet3(learning_rate=learning_rate, maxepochs=maxepochs,\n",
    "              convergence_thres=convergence_thres, hidden_layer=hidden_units)\n",
    "\n",
    "# predict()"
   ]
  },
  {
   "cell_type": "markdown",
   "metadata": {},
   "source": [
    "- Entrainer un réseau de neurones en utilisant X_train et y_train et model qui est déjà initialisé avec l'ensemble des paramètres.\n",
    "- Une fois l'entrainement réalisé, utiliser la fonction predict() pour retourner les probabilités des fleurs correspondant à l'espèce (species) versicolor.\n",
    "- Calculer le score AUC, en utilisant la méthode roc_auc_score() et assigner le résultat à la variable auc.\n"
   ]
  },
  {
   "cell_type": "code",
   "execution_count": 31,
   "metadata": {},
   "outputs": [],
   "source": [
    "from sklearn.metrics import roc_auc_score\n",
    "\n",
    "model.learn(X_train, y_train)\n",
    "\n",
    "yhat = model.predict(X_test)[0]\n",
    "\n",
    "auc = roc_auc_score(y_test, yhat)"
   ]
  },
  {
   "cell_type": "code",
   "execution_count": 32,
   "metadata": {},
   "outputs": [
    {
     "data": {
      "text/plain": [
       "0.6041666666666666"
      ]
     },
     "execution_count": 32,
     "metadata": {},
     "output_type": "execute_result"
    }
   ],
   "source": [
    "auc"
   ]
  }
 ],
 "metadata": {
  "kernelspec": {
   "display_name": "Python 3 (ipykernel)",
   "language": "python",
   "name": "python3"
  },
  "language_info": {
   "codemirror_mode": {
    "name": "ipython",
    "version": 3
   },
   "file_extension": ".py",
   "mimetype": "text/x-python",
   "name": "python",
   "nbconvert_exporter": "python",
   "pygments_lexer": "ipython3",
   "version": "3.12.4"
  }
 },
 "nbformat": 4,
 "nbformat_minor": 4
}
