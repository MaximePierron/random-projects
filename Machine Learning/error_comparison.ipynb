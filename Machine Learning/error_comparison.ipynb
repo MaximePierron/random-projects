{
 "cells": [
  {
   "cell_type": "code",
   "execution_count": 1,
   "id": "d3d80292-65df-463b-9c97-857c759bc5db",
   "metadata": {},
   "outputs": [],
   "source": [
    "import pandas as pd\n",
    "import numpy as np"
   ]
  },
  {
   "cell_type": "code",
   "execution_count": 3,
   "id": "574923a0-2bae-4a4a-a979-1a6381c8e4d5",
   "metadata": {},
   "outputs": [],
   "source": [
    "errors_one = pd.Series([5, 10, 5, 10, 5, 10, 5, 10, 5, 10, 5, 10, 5, 10, 5, 10, 5, 10])\n",
    "errors_two = pd.Series([5, 10, 5, 10, 5, 10, 5, 10, 5, 10, 5, 10, 5, 10, 5, 10, 5, 1000])"
   ]
  },
  {
   "cell_type": "code",
   "execution_count": 5,
   "id": "52c54d20-bf9e-400d-9249-1d72611d47ab",
   "metadata": {},
   "outputs": [],
   "source": [
    "mae_one = np.mean(errors_one)\n",
    "rmse_one = np.sqrt(np.mean(np.power(errors_one, 2)))\n",
    "mae_two = np.mean(errors_two)\n",
    "rmse_two = np.sqrt(np.mean(np.power(errors_two, 2)))"
   ]
  },
  {
   "cell_type": "code",
   "execution_count": 9,
   "id": "b4673857-e96a-42ca-b000-d92fde29192b",
   "metadata": {},
   "outputs": [
    {
     "name": "stdout",
     "output_type": "stream",
     "text": [
      "7.5\n",
      "7.905694150420948\n",
      "62.5\n",
      "235.82302686548658\n"
     ]
    }
   ],
   "source": [
    "print(mae_one)\n",
    "print(rmse_one)\n",
    "print(mae_two)\n",
    "print(rmse_two)"
   ]
  },
  {
   "cell_type": "code",
   "execution_count": null,
   "id": "cd345630-13ed-46b1-b435-f61e323e7f57",
   "metadata": {},
   "outputs": [],
   "source": []
  }
 ],
 "metadata": {
  "kernelspec": {
   "display_name": "Python 3 (ipykernel)",
   "language": "python",
   "name": "python3"
  },
  "language_info": {
   "codemirror_mode": {
    "name": "ipython",
    "version": 3
   },
   "file_extension": ".py",
   "mimetype": "text/x-python",
   "name": "python",
   "nbconvert_exporter": "python",
   "pygments_lexer": "ipython3",
   "version": "3.12.4"
  }
 },
 "nbformat": 4,
 "nbformat_minor": 5
}
