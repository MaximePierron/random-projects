{
 "cells": [
  {
   "cell_type": "code",
   "execution_count": 23,
   "id": "6d5f78b3-8937-4a25-a6fc-46bd072d5bbf",
   "metadata": {},
   "outputs": [],
   "source": [
    "import pandas as pd\n",
    "import numpy as np"
   ]
  },
  {
   "cell_type": "code",
   "execution_count": 25,
   "id": "9b86f082-f2d3-4213-beb1-9b9d5d50dfa3",
   "metadata": {},
   "outputs": [],
   "source": [
    "airbnb = pd.read_csv('paris_airbnb.csv')"
   ]
  },
  {
   "cell_type": "code",
   "execution_count": 27,
   "id": "6ae83bd5-c4a2-4fe4-8674-dc74436d6525",
   "metadata": {},
   "outputs": [],
   "source": [
    "pd.options.mode.chained_assignment = None\n",
    "np.random.seed(1)\n",
    "random_indexes = np.random.permutation(len(airbnb))\n",
    "airbnb = airbnb.iloc[random_indexes]\n",
    "cleaned_price = airbnb['price'].str.replace('$','').replace(',','')\n",
    "airbnb['price'] = pd.to_numeric(cleaned_price, errors='coerce').fillna(0)\n",
    "train_df = airbnb.iloc[:6000]\n",
    "test_df = airbnb.iloc[6000:]"
   ]
  },
  {
   "cell_type": "code",
   "execution_count": 45,
   "id": "e7b9b1be-d87f-414c-bdbe-477e3deda37d",
   "metadata": {},
   "outputs": [],
   "source": [
    "def predict_price(new_listing_bedroom_capacity):\n",
    "    temp_df = train_df.copy()\n",
    "    temp_df['distance'] = temp_df['bedrooms'].apply(lambda x: np.abs(x - new_listing_bedroom_capacity))\n",
    "    temp_df = temp_df.sort_values('distance')\n",
    "    return np.mean(temp_df['price'][:5])"
   ]
  },
  {
   "cell_type": "code",
   "execution_count": 31,
   "id": "10b091df-cf1a-4de6-9b46-e018d1ea8ab3",
   "metadata": {},
   "outputs": [],
   "source": [
    "test_df['predicted_price'] = test_df['bedrooms'].apply(lambda x : predict_price(x))"
   ]
  },
  {
   "cell_type": "code",
   "execution_count": 47,
   "id": "e45a6f6e-66ca-43ff-a457-fcd2fd197285",
   "metadata": {},
   "outputs": [],
   "source": [
    "test_df['absolute_error'] = np.absolute(test_df['predicted_price'] - test_df['price'])\n",
    "mae = np.mean(test_df['absolute_error'])"
   ]
  },
  {
   "cell_type": "code",
   "execution_count": 49,
   "id": "25dcf7f0-d67f-4d9a-afee-2b796b1d3d66",
   "metadata": {},
   "outputs": [
    {
     "data": {
      "text/plain": [
       "42.4465"
      ]
     },
     "execution_count": 49,
     "metadata": {},
     "output_type": "execute_result"
    }
   ],
   "source": [
    "mae"
   ]
  },
  {
   "cell_type": "code",
   "execution_count": 51,
   "id": "df6dad96-f295-4f96-b152-2e9a5dc2f804",
   "metadata": {},
   "outputs": [],
   "source": [
    "test_df['squared_error'] = np.power(test_df['predicted_price'] - test_df['price'], 2)\n",
    "mse = np.mean(test_df['squared_error'])"
   ]
  },
  {
   "cell_type": "code",
   "execution_count": 53,
   "id": "245da942-ee4f-4a28-abcc-6e7cc52c3cd1",
   "metadata": {},
   "outputs": [
    {
     "data": {
      "text/plain": [
       "4734.0619799999995"
      ]
     },
     "execution_count": 53,
     "metadata": {},
     "output_type": "execute_result"
    }
   ],
   "source": [
    "mse"
   ]
  },
  {
   "cell_type": "code",
   "execution_count": 55,
   "id": "0dffb720-fd49-42d0-89ab-dc13e2a3d1b3",
   "metadata": {},
   "outputs": [],
   "source": [
    "rmse = np.sqrt(mse)"
   ]
  },
  {
   "cell_type": "code",
   "execution_count": 57,
   "id": "5249d06c-a0f0-4fa0-9572-c1623eded19b",
   "metadata": {},
   "outputs": [
    {
     "data": {
      "text/plain": [
       "68.80452005500801"
      ]
     },
     "execution_count": 57,
     "metadata": {},
     "output_type": "execute_result"
    }
   ],
   "source": [
    "rmse"
   ]
  },
  {
   "cell_type": "code",
   "execution_count": null,
   "id": "a285e957-9018-4844-8432-0c8d09204bce",
   "metadata": {},
   "outputs": [],
   "source": []
  }
 ],
 "metadata": {
  "kernelspec": {
   "display_name": "Python 3 (ipykernel)",
   "language": "python",
   "name": "python3"
  },
  "language_info": {
   "codemirror_mode": {
    "name": "ipython",
    "version": 3
   },
   "file_extension": ".py",
   "mimetype": "text/x-python",
   "name": "python",
   "nbconvert_exporter": "python",
   "pygments_lexer": "ipython3",
   "version": "3.12.4"
  }
 },
 "nbformat": 4,
 "nbformat_minor": 5
}
