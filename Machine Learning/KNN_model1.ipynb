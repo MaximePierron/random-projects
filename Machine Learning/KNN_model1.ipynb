{
 "cells": [
  {
   "cell_type": "code",
   "execution_count": 93,
   "id": "8a93a63e-ed7d-4903-bc3c-a8e416fb3683",
   "metadata": {},
   "outputs": [],
   "source": [
    "import pandas as pd\n",
    "import numpy as np\n",
    "from scipy.spatial import distance"
   ]
  },
  {
   "cell_type": "code",
   "execution_count": 95,
   "id": "2e244aed-c447-4ffb-ba92-7d2434ff1cc4",
   "metadata": {},
   "outputs": [],
   "source": [
    "airbnb = pd.read_csv('paris_airbnb.csv')"
   ]
  },
  {
   "cell_type": "code",
   "execution_count": 97,
   "id": "03510ff4-97a7-42c3-a38e-fa9fa87e0ab8",
   "metadata": {},
   "outputs": [],
   "source": [
    "pd.options.mode.chained_assignment = None\n",
    "np.random.seed(1)\n",
    "random_indexes = np.random.permutation(len(airbnb))\n",
    "airbnb = airbnb.iloc[random_indexes]\n",
    "cleaned_price = airbnb['price'].str.replace('$','').replace(',','')\n",
    "airbnb['price'] = pd.to_numeric(cleaned_price, errors='coerce').fillna(0)\n",
    "train_df = airbnb.iloc[:6000]\n",
    "test_df = airbnb.iloc[6000:]"
   ]
  },
  {
   "cell_type": "code",
   "execution_count": 99,
   "id": "7a08d137-defe-4a37-ab15-a658e190d07d",
   "metadata": {},
   "outputs": [],
   "source": [
    "def predict_price(new_listing_accommodation_capacity):\n",
    "    temp_df = train_df.copy()\n",
    "    temp_df['distance'] = temp_df['accommodates'].apply(lambda x: np.abs(x - new_listing_accommodation_capacity))\n",
    "    temp_df = temp_df.sort_values('distance')\n",
    "    return np.mean(temp_df['price'][:5])"
   ]
  },
  {
   "cell_type": "code",
   "execution_count": 101,
   "id": "e6ca06f4-f85e-4fbb-b1e0-374dab9476c5",
   "metadata": {},
   "outputs": [
    {
     "data": {
      "text/plain": [
       "96.2"
      ]
     },
     "execution_count": 101,
     "metadata": {},
     "output_type": "execute_result"
    }
   ],
   "source": [
    "predict_price(3)"
   ]
  },
  {
   "cell_type": "code",
   "execution_count": 103,
   "id": "63d3743b-392d-4951-8c6c-de6425eff355",
   "metadata": {},
   "outputs": [],
   "source": [
    "acc_one = predict_price(1)\n",
    "acc_two = predict_price(2)\n",
    "acc_four = predict_price(4)"
   ]
  },
  {
   "cell_type": "code",
   "execution_count": 105,
   "id": "3ba87be7-4eba-48d0-b005-c8b98f1daefd",
   "metadata": {},
   "outputs": [
    {
     "name": "stdout",
     "output_type": "stream",
     "text": [
      "34.4 90.4 173.0\n"
     ]
    }
   ],
   "source": [
    "print(acc_one, acc_two, acc_four)"
   ]
  },
  {
   "cell_type": "code",
   "execution_count": 107,
   "id": "da354ee5-09f7-4fd1-ba67-37d7a5206915",
   "metadata": {},
   "outputs": [],
   "source": [
    "test_df['predicted_price'] = test_df['accommodates'].apply(lambda x : predict_price(x))"
   ]
  },
  {
   "cell_type": "code",
   "execution_count": 109,
   "id": "d2cfae38-565c-4541-a0ae-40d770cad664",
   "metadata": {},
   "outputs": [
    {
     "data": {
      "text/html": [
       "<div>\n",
       "<style scoped>\n",
       "    .dataframe tbody tr th:only-of-type {\n",
       "        vertical-align: middle;\n",
       "    }\n",
       "\n",
       "    .dataframe tbody tr th {\n",
       "        vertical-align: top;\n",
       "    }\n",
       "\n",
       "    .dataframe thead th {\n",
       "        text-align: right;\n",
       "    }\n",
       "</style>\n",
       "<table border=\"1\" class=\"dataframe\">\n",
       "  <thead>\n",
       "    <tr style=\"text-align: right;\">\n",
       "      <th></th>\n",
       "      <th>host_response_rate</th>\n",
       "      <th>host_acceptance_rate</th>\n",
       "      <th>host_listings_count</th>\n",
       "      <th>latitude</th>\n",
       "      <th>longitude</th>\n",
       "      <th>city</th>\n",
       "      <th>zipcode</th>\n",
       "      <th>state</th>\n",
       "      <th>accommodates</th>\n",
       "      <th>room_type</th>\n",
       "      <th>bedrooms</th>\n",
       "      <th>bathrooms</th>\n",
       "      <th>beds</th>\n",
       "      <th>price</th>\n",
       "      <th>cleaning_fee</th>\n",
       "      <th>security_deposit</th>\n",
       "      <th>minimum_nights</th>\n",
       "      <th>maximum_nights</th>\n",
       "      <th>number_of_reviews</th>\n",
       "      <th>predicted_price</th>\n",
       "    </tr>\n",
       "  </thead>\n",
       "  <tbody>\n",
       "    <tr>\n",
       "      <th>4465</th>\n",
       "      <td>96%</td>\n",
       "      <td>NaN</td>\n",
       "      <td>28.0</td>\n",
       "      <td>48.89318</td>\n",
       "      <td>2.31884</td>\n",
       "      <td>Paris</td>\n",
       "      <td>75017</td>\n",
       "      <td>Paris province</td>\n",
       "      <td>2</td>\n",
       "      <td>Entire home/apt</td>\n",
       "      <td>0.0</td>\n",
       "      <td>1.0</td>\n",
       "      <td>1.0</td>\n",
       "      <td>63.0</td>\n",
       "      <td>$100.00</td>\n",
       "      <td>$400.00</td>\n",
       "      <td>14</td>\n",
       "      <td>180</td>\n",
       "      <td>61</td>\n",
       "      <td>90.4</td>\n",
       "    </tr>\n",
       "    <tr>\n",
       "      <th>3154</th>\n",
       "      <td>100%</td>\n",
       "      <td>NaN</td>\n",
       "      <td>2.0</td>\n",
       "      <td>48.85114</td>\n",
       "      <td>2.29728</td>\n",
       "      <td>Paris</td>\n",
       "      <td>75015</td>\n",
       "      <td>Île-de-France</td>\n",
       "      <td>5</td>\n",
       "      <td>Entire home/apt</td>\n",
       "      <td>1.0</td>\n",
       "      <td>1.0</td>\n",
       "      <td>4.0</td>\n",
       "      <td>120.0</td>\n",
       "      <td>$50.00</td>\n",
       "      <td>$200.00</td>\n",
       "      <td>1</td>\n",
       "      <td>120</td>\n",
       "      <td>102</td>\n",
       "      <td>176.8</td>\n",
       "    </tr>\n",
       "    <tr>\n",
       "      <th>1969</th>\n",
       "      <td>65%</td>\n",
       "      <td>NaN</td>\n",
       "      <td>93.0</td>\n",
       "      <td>48.85134</td>\n",
       "      <td>2.33359</td>\n",
       "      <td>Paris</td>\n",
       "      <td>75006</td>\n",
       "      <td>Île-de-France</td>\n",
       "      <td>3</td>\n",
       "      <td>Entire home/apt</td>\n",
       "      <td>1.0</td>\n",
       "      <td>1.0</td>\n",
       "      <td>2.0</td>\n",
       "      <td>149.0</td>\n",
       "      <td>$60.00</td>\n",
       "      <td>$600.00</td>\n",
       "      <td>30</td>\n",
       "      <td>1125</td>\n",
       "      <td>5</td>\n",
       "      <td>96.2</td>\n",
       "    </tr>\n",
       "    <tr>\n",
       "      <th>2713</th>\n",
       "      <td>NaN</td>\n",
       "      <td>NaN</td>\n",
       "      <td>1.0</td>\n",
       "      <td>48.87320</td>\n",
       "      <td>2.38649</td>\n",
       "      <td>Paris</td>\n",
       "      <td>75020</td>\n",
       "      <td>Île-de-France</td>\n",
       "      <td>4</td>\n",
       "      <td>Entire home/apt</td>\n",
       "      <td>2.0</td>\n",
       "      <td>1.0</td>\n",
       "      <td>1.0</td>\n",
       "      <td>79.0</td>\n",
       "      <td>$65.00</td>\n",
       "      <td>$299.00</td>\n",
       "      <td>2</td>\n",
       "      <td>1125</td>\n",
       "      <td>5</td>\n",
       "      <td>173.0</td>\n",
       "    </tr>\n",
       "    <tr>\n",
       "      <th>5578</th>\n",
       "      <td>100%</td>\n",
       "      <td>NaN</td>\n",
       "      <td>1.0</td>\n",
       "      <td>48.85691</td>\n",
       "      <td>2.36013</td>\n",
       "      <td>Paris</td>\n",
       "      <td>75004</td>\n",
       "      <td>Île-de-France</td>\n",
       "      <td>2</td>\n",
       "      <td>Entire home/apt</td>\n",
       "      <td>1.0</td>\n",
       "      <td>1.0</td>\n",
       "      <td>1.0</td>\n",
       "      <td>51.0</td>\n",
       "      <td>$25.00</td>\n",
       "      <td>$150.00</td>\n",
       "      <td>4</td>\n",
       "      <td>15</td>\n",
       "      <td>17</td>\n",
       "      <td>90.4</td>\n",
       "    </tr>\n",
       "  </tbody>\n",
       "</table>\n",
       "</div>"
      ],
      "text/plain": [
       "     host_response_rate  host_acceptance_rate  host_listings_count  latitude  \\\n",
       "4465                96%                   NaN                 28.0  48.89318   \n",
       "3154               100%                   NaN                  2.0  48.85114   \n",
       "1969                65%                   NaN                 93.0  48.85134   \n",
       "2713                NaN                   NaN                  1.0  48.87320   \n",
       "5578               100%                   NaN                  1.0  48.85691   \n",
       "\n",
       "      longitude   city zipcode           state  accommodates        room_type  \\\n",
       "4465    2.31884  Paris   75017  Paris province             2  Entire home/apt   \n",
       "3154    2.29728  Paris   75015   Île-de-France             5  Entire home/apt   \n",
       "1969    2.33359  Paris   75006   Île-de-France             3  Entire home/apt   \n",
       "2713    2.38649  Paris   75020   Île-de-France             4  Entire home/apt   \n",
       "5578    2.36013  Paris   75004   Île-de-France             2  Entire home/apt   \n",
       "\n",
       "      bedrooms  bathrooms  beds  price cleaning_fee security_deposit  \\\n",
       "4465       0.0        1.0   1.0   63.0      $100.00          $400.00   \n",
       "3154       1.0        1.0   4.0  120.0       $50.00          $200.00   \n",
       "1969       1.0        1.0   2.0  149.0       $60.00          $600.00   \n",
       "2713       2.0        1.0   1.0   79.0       $65.00          $299.00   \n",
       "5578       1.0        1.0   1.0   51.0       $25.00          $150.00   \n",
       "\n",
       "      minimum_nights  maximum_nights  number_of_reviews  predicted_price  \n",
       "4465              14             180                 61             90.4  \n",
       "3154               1             120                102            176.8  \n",
       "1969              30            1125                  5             96.2  \n",
       "2713               2            1125                  5            173.0  \n",
       "5578               4              15                 17             90.4  "
      ]
     },
     "execution_count": 109,
     "metadata": {},
     "output_type": "execute_result"
    }
   ],
   "source": [
    "test_df.head()"
   ]
  },
  {
   "cell_type": "code",
   "execution_count": 111,
   "id": "13f95ef2-faa3-443a-a012-27203072d8cf",
   "metadata": {},
   "outputs": [],
   "source": [
    "test_df['absolute_error'] = np.absolute(test_df['predicted_price'] - test_df['price'])\n",
    "mae = np.mean(test_df['absolute_error'])"
   ]
  },
  {
   "cell_type": "code",
   "execution_count": 113,
   "id": "9358175b-5aff-4e5e-8ba4-c7541ba6a638",
   "metadata": {},
   "outputs": [
    {
     "data": {
      "text/plain": [
       "51.7262"
      ]
     },
     "execution_count": 113,
     "metadata": {},
     "output_type": "execute_result"
    }
   ],
   "source": [
    "mae"
   ]
  },
  {
   "cell_type": "code",
   "execution_count": 115,
   "id": "73ab4858-e01c-4960-a001-65f7d983f843",
   "metadata": {},
   "outputs": [],
   "source": [
    "test_df['squared_error'] = np.power(test_df['predicted_price'] - test_df['price'], 2)\n",
    "mse = np.mean(test_df['squared_error'])"
   ]
  },
  {
   "cell_type": "code",
   "execution_count": 117,
   "id": "3308d934-e70d-4086-9632-b90a4858a665",
   "metadata": {},
   "outputs": [
    {
     "data": {
      "text/plain": [
       "5165.055800000001"
      ]
     },
     "execution_count": 117,
     "metadata": {},
     "output_type": "execute_result"
    }
   ],
   "source": [
    "mse"
   ]
  },
  {
   "cell_type": "code",
   "execution_count": 119,
   "id": "c6ece38c-f62d-4e6f-b9b9-c547637d074b",
   "metadata": {},
   "outputs": [],
   "source": [
    "rmse = np.sqrt(mse)"
   ]
  },
  {
   "cell_type": "code",
   "execution_count": 121,
   "id": "4c0e82da-83b0-4d80-b0a4-f2b7540b0ecf",
   "metadata": {},
   "outputs": [
    {
     "data": {
      "text/plain": [
       "71.86832264635095"
      ]
     },
     "execution_count": 121,
     "metadata": {},
     "output_type": "execute_result"
    }
   ],
   "source": [
    "rmse"
   ]
  },
  {
   "cell_type": "code",
   "execution_count": null,
   "id": "e6741732-1aa5-423e-827e-bbc78426486d",
   "metadata": {},
   "outputs": [],
   "source": []
  }
 ],
 "metadata": {
  "kernelspec": {
   "display_name": "Python 3 (ipykernel)",
   "language": "python",
   "name": "python3"
  },
  "language_info": {
   "codemirror_mode": {
    "name": "ipython",
    "version": 3
   },
   "file_extension": ".py",
   "mimetype": "text/x-python",
   "name": "python",
   "nbconvert_exporter": "python",
   "pygments_lexer": "ipython3",
   "version": "3.12.4"
  }
 },
 "nbformat": 4,
 "nbformat_minor": 5
}
